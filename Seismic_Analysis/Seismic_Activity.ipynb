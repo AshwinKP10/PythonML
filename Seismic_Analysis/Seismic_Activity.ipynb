{
 "cells": [
  {
   "cell_type": "code",
   "execution_count": 1,
   "metadata": {
    "collapsed": true
   },
   "outputs": [],
   "source": [
    "import arff\n",
    "import pandas as pd\n",
    "%matplotlib inline\n",
    "import numpy as np"
   ]
  },
  {
   "cell_type": "code",
   "execution_count": 3,
   "metadata": {
    "collapsed": false
   },
   "outputs": [],
   "source": [
    "#Loading the arff files-train data,please make sure that your data and the code are in the same file\n",
    "r = arff.load(open('train.arff', 'rb'))\n",
    "df_train = pd.DataFrame(r['data'])\n",
    "df_train.columns = ['Attr1','Attr2','Attr3','Attr4','Attr5','Attr6','Attr7','Attr8','Attr9','Attr10','Attr11','Attr12','Attr13','Attr14','Attr15','Attr16','Attr17','Attr18','Attr19','class']"
   ]
  },
  {
   "cell_type": "code",
   "execution_count": 4,
   "metadata": {
    "collapsed": true
   },
   "outputs": [],
   "source": [
    "#Validation data,please make sure that your data and the code are in the same file\n",
    "r = arff.load(open('validation.arff', 'rb'))\n",
    "df_validate = pd.DataFrame(r['data'])\n",
    "df_validate.columns = ['Attr1','Attr2','Attr3','Attr4','Attr5','Attr6','Attr7','Attr8','Attr9','Attr10','Attr11','Attr12','Attr13','Attr14','Attr15','Attr16','Attr17','Attr18','Attr19','class']"
   ]
  },
  {
   "cell_type": "code",
   "execution_count": 5,
   "metadata": {
    "collapsed": false
   },
   "outputs": [],
   "source": [
    "#Test data,please make sure that your data and the code are in the same file\n",
    "r = arff.load(open('test.arff', 'rb'))\n",
    "df_test = pd.DataFrame(r['data'])\n",
    "df_test.columns = ['Attr1','Attr2','Attr3','Attr4','Attr5','Attr6','Attr7','Attr8','Attr9','Attr10','Attr11','Attr12','Attr13','Attr14','Attr15','Attr16','Attr17','Attr18','Attr19']"
   ]
  },
  {
   "cell_type": "code",
   "execution_count": 7,
   "metadata": {
    "collapsed": false
   },
   "outputs": [
    {
     "name": "stdout",
     "output_type": "stream",
     "text": [
      "(1809, 20)\n",
      "(1385, 20)\n",
      "(1384, 19)\n"
     ]
    }
   ],
   "source": [
    "print(df_train.shape)\n",
    "print(df_validate.shape)\n",
    "print(df_test.shape)"
   ]
  },
  {
   "cell_type": "code",
   "execution_count": 8,
   "metadata": {
    "collapsed": false
   },
   "outputs": [
    {
     "name": "stderr",
     "output_type": "stream",
     "text": [
      "C:\\Users\\Ashwin\\Anaconda2\\lib\\site-packages\\numpy\\lib\\function_base.py:3834: RuntimeWarning: Invalid value encountered in percentile\n",
      "  RuntimeWarning)\n"
     ]
    },
    {
     "data": {
      "text/html": [
       "<div>\n",
       "<table border=\"1\" class=\"dataframe\">\n",
       "  <thead>\n",
       "    <tr style=\"text-align: right;\">\n",
       "      <th></th>\n",
       "      <th>Attr1</th>\n",
       "      <th>Attr5</th>\n",
       "      <th>Attr6</th>\n",
       "      <th>Attr7</th>\n",
       "      <th>Attr8</th>\n",
       "      <th>Attr10</th>\n",
       "      <th>Attr11</th>\n",
       "      <th>Attr12</th>\n",
       "      <th>Attr13</th>\n",
       "      <th>Attr14</th>\n",
       "      <th>Attr15</th>\n",
       "      <th>Attr16</th>\n",
       "      <th>Attr17</th>\n",
       "      <th>Attr18</th>\n",
       "      <th>Attr19</th>\n",
       "      <th>class</th>\n",
       "    </tr>\n",
       "  </thead>\n",
       "  <tbody>\n",
       "    <tr>\n",
       "      <th>count</th>\n",
       "      <td>1809.000000</td>\n",
       "      <td>1.808000e+03</td>\n",
       "      <td>1809.000000</td>\n",
       "      <td>1808.000000</td>\n",
       "      <td>1809.000000</td>\n",
       "      <td>1809.000000</td>\n",
       "      <td>1806.000000</td>\n",
       "      <td>1808.000000</td>\n",
       "      <td>1809.000000</td>\n",
       "      <td>1809.000000</td>\n",
       "      <td>1809.0</td>\n",
       "      <td>1809.0</td>\n",
       "      <td>1808.0</td>\n",
       "      <td>1809.000000</td>\n",
       "      <td>1807.000000</td>\n",
       "      <td>1809.000000</td>\n",
       "    </tr>\n",
       "    <tr>\n",
       "      <th>mean</th>\n",
       "      <td>905.000000</td>\n",
       "      <td>9.085197e+04</td>\n",
       "      <td>539.982863</td>\n",
       "      <td>12.597898</td>\n",
       "      <td>4.778331</td>\n",
       "      <td>0.877833</td>\n",
       "      <td>0.399225</td>\n",
       "      <td>0.403208</td>\n",
       "      <td>0.071310</td>\n",
       "      <td>0.003317</td>\n",
       "      <td>0.0</td>\n",
       "      <td>0.0</td>\n",
       "      <td>0.0</td>\n",
       "      <td>4974.488668</td>\n",
       "      <td>4239.900387</td>\n",
       "      <td>0.061913</td>\n",
       "    </tr>\n",
       "    <tr>\n",
       "      <th>std</th>\n",
       "      <td>522.357636</td>\n",
       "      <td>2.285883e+05</td>\n",
       "      <td>556.279554</td>\n",
       "      <td>82.357108</td>\n",
       "      <td>63.589287</td>\n",
       "      <td>1.380971</td>\n",
       "      <td>0.773938</td>\n",
       "      <td>0.783427</td>\n",
       "      <td>0.285917</td>\n",
       "      <td>0.057512</td>\n",
       "      <td>0.0</td>\n",
       "      <td>0.0</td>\n",
       "      <td>0.0</td>\n",
       "      <td>19587.599715</td>\n",
       "      <td>18307.254479</td>\n",
       "      <td>0.241063</td>\n",
       "    </tr>\n",
       "    <tr>\n",
       "      <th>min</th>\n",
       "      <td>1.000000</td>\n",
       "      <td>2.900000e+02</td>\n",
       "      <td>3.000000</td>\n",
       "      <td>-96.000000</td>\n",
       "      <td>-96.000000</td>\n",
       "      <td>0.000000</td>\n",
       "      <td>0.000000</td>\n",
       "      <td>0.000000</td>\n",
       "      <td>0.000000</td>\n",
       "      <td>0.000000</td>\n",
       "      <td>0.0</td>\n",
       "      <td>0.0</td>\n",
       "      <td>0.0</td>\n",
       "      <td>0.000000</td>\n",
       "      <td>0.000000</td>\n",
       "      <td>0.000000</td>\n",
       "    </tr>\n",
       "    <tr>\n",
       "      <th>25%</th>\n",
       "      <td>453.000000</td>\n",
       "      <td>NaN</td>\n",
       "      <td>189.000000</td>\n",
       "      <td>NaN</td>\n",
       "      <td>-37.000000</td>\n",
       "      <td>0.000000</td>\n",
       "      <td>NaN</td>\n",
       "      <td>NaN</td>\n",
       "      <td>0.000000</td>\n",
       "      <td>0.000000</td>\n",
       "      <td>0.0</td>\n",
       "      <td>0.0</td>\n",
       "      <td>NaN</td>\n",
       "      <td>0.000000</td>\n",
       "      <td>NaN</td>\n",
       "      <td>0.000000</td>\n",
       "    </tr>\n",
       "    <tr>\n",
       "      <th>50%</th>\n",
       "      <td>905.000000</td>\n",
       "      <td>NaN</td>\n",
       "      <td>380.000000</td>\n",
       "      <td>NaN</td>\n",
       "      <td>-6.000000</td>\n",
       "      <td>0.000000</td>\n",
       "      <td>NaN</td>\n",
       "      <td>NaN</td>\n",
       "      <td>0.000000</td>\n",
       "      <td>0.000000</td>\n",
       "      <td>0.0</td>\n",
       "      <td>0.0</td>\n",
       "      <td>NaN</td>\n",
       "      <td>0.000000</td>\n",
       "      <td>NaN</td>\n",
       "      <td>0.000000</td>\n",
       "    </tr>\n",
       "    <tr>\n",
       "      <th>75%</th>\n",
       "      <td>1357.000000</td>\n",
       "      <td>NaN</td>\n",
       "      <td>678.000000</td>\n",
       "      <td>NaN</td>\n",
       "      <td>31.000000</td>\n",
       "      <td>1.000000</td>\n",
       "      <td>NaN</td>\n",
       "      <td>NaN</td>\n",
       "      <td>0.000000</td>\n",
       "      <td>0.000000</td>\n",
       "      <td>0.0</td>\n",
       "      <td>0.0</td>\n",
       "      <td>NaN</td>\n",
       "      <td>2700.000000</td>\n",
       "      <td>NaN</td>\n",
       "      <td>0.000000</td>\n",
       "    </tr>\n",
       "    <tr>\n",
       "      <th>max</th>\n",
       "      <td>1809.000000</td>\n",
       "      <td>2.595650e+06</td>\n",
       "      <td>4365.000000</td>\n",
       "      <td>1245.000000</td>\n",
       "      <td>838.000000</td>\n",
       "      <td>9.000000</td>\n",
       "      <td>5.000000</td>\n",
       "      <td>7.000000</td>\n",
       "      <td>3.000000</td>\n",
       "      <td>1.000000</td>\n",
       "      <td>0.0</td>\n",
       "      <td>0.0</td>\n",
       "      <td>0.0</td>\n",
       "      <td>402000.000000</td>\n",
       "      <td>400000.000000</td>\n",
       "      <td>1.000000</td>\n",
       "    </tr>\n",
       "  </tbody>\n",
       "</table>\n",
       "</div>"
      ],
      "text/plain": [
       "             Attr1         Attr5        Attr6        Attr7        Attr8  \\\n",
       "count  1809.000000  1.808000e+03  1809.000000  1808.000000  1809.000000   \n",
       "mean    905.000000  9.085197e+04   539.982863    12.597898     4.778331   \n",
       "std     522.357636  2.285883e+05   556.279554    82.357108    63.589287   \n",
       "min       1.000000  2.900000e+02     3.000000   -96.000000   -96.000000   \n",
       "25%     453.000000           NaN   189.000000          NaN   -37.000000   \n",
       "50%     905.000000           NaN   380.000000          NaN    -6.000000   \n",
       "75%    1357.000000           NaN   678.000000          NaN    31.000000   \n",
       "max    1809.000000  2.595650e+06  4365.000000  1245.000000   838.000000   \n",
       "\n",
       "            Attr10       Attr11       Attr12       Attr13       Attr14  \\\n",
       "count  1809.000000  1806.000000  1808.000000  1809.000000  1809.000000   \n",
       "mean      0.877833     0.399225     0.403208     0.071310     0.003317   \n",
       "std       1.380971     0.773938     0.783427     0.285917     0.057512   \n",
       "min       0.000000     0.000000     0.000000     0.000000     0.000000   \n",
       "25%       0.000000          NaN          NaN     0.000000     0.000000   \n",
       "50%       0.000000          NaN          NaN     0.000000     0.000000   \n",
       "75%       1.000000          NaN          NaN     0.000000     0.000000   \n",
       "max       9.000000     5.000000     7.000000     3.000000     1.000000   \n",
       "\n",
       "       Attr15  Attr16  Attr17         Attr18         Attr19        class  \n",
       "count  1809.0  1809.0  1808.0    1809.000000    1807.000000  1809.000000  \n",
       "mean      0.0     0.0     0.0    4974.488668    4239.900387     0.061913  \n",
       "std       0.0     0.0     0.0   19587.599715   18307.254479     0.241063  \n",
       "min       0.0     0.0     0.0       0.000000       0.000000     0.000000  \n",
       "25%       0.0     0.0     NaN       0.000000            NaN     0.000000  \n",
       "50%       0.0     0.0     NaN       0.000000            NaN     0.000000  \n",
       "75%       0.0     0.0     NaN    2700.000000            NaN     0.000000  \n",
       "max       0.0     0.0     0.0  402000.000000  400000.000000     1.000000  "
      ]
     },
     "execution_count": 8,
     "metadata": {},
     "output_type": "execute_result"
    }
   ],
   "source": [
    "df_train.describe()"
   ]
  },
  {
   "cell_type": "code",
   "execution_count": 9,
   "metadata": {
    "collapsed": true
   },
   "outputs": [],
   "source": [
    "#Dropping attribiutes15,16,17 as they have 0 variance\n",
    "df_train = df_train.drop(['Attr15','Attr16','Attr17'],axis=1)\n",
    "df_validate = df_validate.drop(['Attr15','Attr16','Attr17'],axis=1)\n",
    "df_test = df_test.drop(['Attr15','Attr16','Attr17'],axis=1)"
   ]
  },
  {
   "cell_type": "code",
   "execution_count": 10,
   "metadata": {
    "collapsed": false
   },
   "outputs": [
    {
     "name": "stdout",
     "output_type": "stream",
     "text": [
      "(1809, 17)\n",
      "(1385, 17)\n",
      "(1384, 16)\n"
     ]
    }
   ],
   "source": [
    "print(df_train.shape)\n",
    "print(df_validate.shape)\n",
    "print(df_test.shape)"
   ]
  },
  {
   "cell_type": "code",
   "execution_count": 11,
   "metadata": {
    "collapsed": false
   },
   "outputs": [
    {
     "name": "stdout",
     "output_type": "stream",
     "text": [
      "<class 'pandas.core.frame.DataFrame'>\n",
      "RangeIndex: 1809 entries, 0 to 1808\n",
      "Data columns (total 17 columns):\n",
      "Attr1     1809 non-null float64\n",
      "Attr2     1809 non-null object\n",
      "Attr3     1809 non-null object\n",
      "Attr4     1809 non-null object\n",
      "Attr5     1808 non-null float64\n",
      "Attr6     1809 non-null float64\n",
      "Attr7     1808 non-null float64\n",
      "Attr8     1809 non-null float64\n",
      "Attr9     1809 non-null object\n",
      "Attr10    1809 non-null float64\n",
      "Attr11    1806 non-null float64\n",
      "Attr12    1808 non-null float64\n",
      "Attr13    1809 non-null float64\n",
      "Attr14    1809 non-null float64\n",
      "Attr18    1809 non-null float64\n",
      "Attr19    1807 non-null float64\n",
      "class     1809 non-null float64\n",
      "dtypes: float64(13), object(4)\n",
      "memory usage: 240.3+ KB\n"
     ]
    }
   ],
   "source": [
    "df_train.info()"
   ]
  },
  {
   "cell_type": "code",
   "execution_count": 12,
   "metadata": {
    "collapsed": false
   },
   "outputs": [
    {
     "data": {
      "text/plain": [
       "<matplotlib.axes._subplots.AxesSubplot at 0x987df28>"
      ]
     },
     "execution_count": 12,
     "metadata": {},
     "output_type": "execute_result"
    },
    {
     "data": {
      "image/png": "[encoded data removed]",
      "text/plain": [
       "<matplotlib.figure.Figure at 0x9d97940>"
      ]
     },
     "metadata": {},
     "output_type": "display_data"
    }
   ],
   "source": [
    "#Understanding the distribution of the target attribute\n",
    "df_train['class'].hist(bins=50)"
   ]
  },
  {
   "cell_type": "code",
   "execution_count": 13,
   "metadata": {
    "collapsed": false
   },
   "outputs": [],
   "source": [
    "#Appending the train data with validation file to reduce the class imbalance\n",
    "final_train = df_train.append(df_validate)"
   ]
  },
  {
   "cell_type": "code",
   "execution_count": 14,
   "metadata": {
    "collapsed": false
   },
   "outputs": [
    {
     "data": {
      "text/plain": [
       "<matplotlib.axes._subplots.AxesSubplot at 0x985b940>"
      ]
     },
     "execution_count": 14,
     "metadata": {},
     "output_type": "execute_result"
    },
    {
     "data": {
      "image/png": "[encoded data removed]",
      "text/plain": [
       "<matplotlib.figure.Figure at 0x9f98c88>"
      ]
     },
     "metadata": {},
     "output_type": "display_data"
    }
   ],
   "source": [
    "#Checking the distribution of the target\n",
    "final_train['class'].hist(bins=50)"
   ]
  },
  {
   "cell_type": "code",
   "execution_count": 15,
   "metadata": {
    "collapsed": false
   },
   "outputs": [
    {
     "data": {
      "text/plain": [
       "(3194, 17)"
      ]
     },
     "execution_count": 15,
     "metadata": {},
     "output_type": "execute_result"
    }
   ],
   "source": [
    "final_train.shape"
   ]
  },
  {
   "cell_type": "code",
   "execution_count": 16,
   "metadata": {
    "collapsed": false
   },
   "outputs": [
    {
     "name": "stdout",
     "output_type": "stream",
     "text": [
      "<class 'pandas.core.frame.DataFrame'>\n",
      "Int64Index: 3194 entries, 0 to 1384\n",
      "Data columns (total 17 columns):\n",
      "Attr1     3194 non-null float64\n",
      "Attr2     3194 non-null object\n",
      "Attr3     3194 non-null object\n",
      "Attr4     3194 non-null object\n",
      "Attr5     3193 non-null float64\n",
      "Attr6     3194 non-null float64\n",
      "Attr7     3193 non-null float64\n",
      "Attr8     3194 non-null float64\n",
      "Attr9     3194 non-null object\n",
      "Attr10    3194 non-null float64\n",
      "Attr11    3191 non-null float64\n",
      "Attr12    3193 non-null float64\n",
      "Attr13    3194 non-null float64\n",
      "Attr14    3194 non-null float64\n",
      "Attr18    3194 non-null float64\n",
      "Attr19    3192 non-null float64\n",
      "class     3194 non-null float64\n",
      "dtypes: float64(13), object(4)\n",
      "memory usage: 449.2+ KB\n"
     ]
    }
   ],
   "source": [
    "final_train.info()"
   ]
  },
  {
   "cell_type": "code",
   "execution_count": 17,
   "metadata": {
    "collapsed": false
   },
   "outputs": [
    {
     "name": "stdout",
     "output_type": "stream",
     "text": [
      "a    2054\n",
      "b    1140\n",
      "Name: Attr2, dtype: int64\n",
      "a    2010\n",
      "b    1127\n",
      "c      57\n",
      "Name: Attr3, dtype: int64\n",
      "W    2151\n",
      "N    1043\n",
      "Name: Attr4, dtype: int64\n"
     ]
    }
   ],
   "source": [
    "print(final_train['Attr2'].value_counts())\n",
    "print(final_train['Attr3'].value_counts())\n",
    "print(final_train['Attr4'].value_counts())"
   ]
  },
  {
   "cell_type": "code",
   "execution_count": 18,
   "metadata": {
    "collapsed": false
   },
   "outputs": [
    {
     "data": {
      "text/html": [
       "<div>\n",
       "<table border=\"1\" class=\"dataframe\">\n",
       "  <thead>\n",
       "    <tr style=\"text-align: right;\">\n",
       "      <th></th>\n",
       "      <th>Attr1</th>\n",
       "      <th>Attr5</th>\n",
       "      <th>Attr6</th>\n",
       "      <th>Attr7</th>\n",
       "      <th>Attr8</th>\n",
       "      <th>Attr10</th>\n",
       "      <th>Attr11</th>\n",
       "      <th>Attr12</th>\n",
       "      <th>Attr13</th>\n",
       "      <th>Attr14</th>\n",
       "      <th>Attr18</th>\n",
       "      <th>Attr19</th>\n",
       "      <th>class</th>\n",
       "    </tr>\n",
       "  </thead>\n",
       "  <tbody>\n",
       "    <tr>\n",
       "      <th>Attr1</th>\n",
       "      <td>1.000000</td>\n",
       "      <td>0.144983</td>\n",
       "      <td>0.183870</td>\n",
       "      <td>0.007765</td>\n",
       "      <td>-0.005605</td>\n",
       "      <td>0.128634</td>\n",
       "      <td>0.125377</td>\n",
       "      <td>0.087751</td>\n",
       "      <td>0.023920</td>\n",
       "      <td>0.004372</td>\n",
       "      <td>0.040735</td>\n",
       "      <td>0.040088</td>\n",
       "      <td>0.403784</td>\n",
       "    </tr>\n",
       "    <tr>\n",
       "      <th>Attr5</th>\n",
       "      <td>0.144983</td>\n",
       "      <td>1.000000</td>\n",
       "      <td>0.792397</td>\n",
       "      <td>0.046009</td>\n",
       "      <td>0.083910</td>\n",
       "      <td>0.257222</td>\n",
       "      <td>0.201778</td>\n",
       "      <td>0.214666</td>\n",
       "      <td>0.111334</td>\n",
       "      <td>-0.017165</td>\n",
       "      <td>0.093201</td>\n",
       "      <td>0.082297</td>\n",
       "      <td>0.326226</td>\n",
       "    </tr>\n",
       "    <tr>\n",
       "      <th>Attr6</th>\n",
       "      <td>0.183870</td>\n",
       "      <td>0.792397</td>\n",
       "      <td>1.000000</td>\n",
       "      <td>0.248026</td>\n",
       "      <td>0.345942</td>\n",
       "      <td>0.335563</td>\n",
       "      <td>0.264706</td>\n",
       "      <td>0.256640</td>\n",
       "      <td>0.184413</td>\n",
       "      <td>0.033931</td>\n",
       "      <td>0.176404</td>\n",
       "      <td>0.159997</td>\n",
       "      <td>0.416799</td>\n",
       "    </tr>\n",
       "    <tr>\n",
       "      <th>Attr7</th>\n",
       "      <td>0.007765</td>\n",
       "      <td>0.046009</td>\n",
       "      <td>0.248026</td>\n",
       "      <td>1.000000</td>\n",
       "      <td>0.802161</td>\n",
       "      <td>0.038720</td>\n",
       "      <td>0.031053</td>\n",
       "      <td>0.014848</td>\n",
       "      <td>0.014147</td>\n",
       "      <td>0.118944</td>\n",
       "      <td>0.077697</td>\n",
       "      <td>0.078177</td>\n",
       "      <td>0.016242</td>\n",
       "    </tr>\n",
       "    <tr>\n",
       "      <th>Attr8</th>\n",
       "      <td>-0.005605</td>\n",
       "      <td>0.083910</td>\n",
       "      <td>0.345942</td>\n",
       "      <td>0.802161</td>\n",
       "      <td>1.000000</td>\n",
       "      <td>0.075084</td>\n",
       "      <td>0.042512</td>\n",
       "      <td>0.053302</td>\n",
       "      <td>0.050332</td>\n",
       "      <td>0.165888</td>\n",
       "      <td>0.134578</td>\n",
       "      <td>0.131506</td>\n",
       "      <td>0.014965</td>\n",
       "    </tr>\n",
       "    <tr>\n",
       "      <th>Attr10</th>\n",
       "      <td>0.128634</td>\n",
       "      <td>0.257222</td>\n",
       "      <td>0.335563</td>\n",
       "      <td>0.038720</td>\n",
       "      <td>0.075084</td>\n",
       "      <td>1.000000</td>\n",
       "      <td>0.802051</td>\n",
       "      <td>0.799810</td>\n",
       "      <td>0.392527</td>\n",
       "      <td>0.052228</td>\n",
       "      <td>0.369596</td>\n",
       "      <td>0.295191</td>\n",
       "      <td>0.375014</td>\n",
       "    </tr>\n",
       "    <tr>\n",
       "      <th>Attr11</th>\n",
       "      <td>0.125377</td>\n",
       "      <td>0.201778</td>\n",
       "      <td>0.264706</td>\n",
       "      <td>0.031053</td>\n",
       "      <td>0.042512</td>\n",
       "      <td>0.802051</td>\n",
       "      <td>1.000000</td>\n",
       "      <td>0.347831</td>\n",
       "      <td>0.181464</td>\n",
       "      <td>-0.018618</td>\n",
       "      <td>0.163097</td>\n",
       "      <td>0.125328</td>\n",
       "      <td>0.332430</td>\n",
       "    </tr>\n",
       "    <tr>\n",
       "      <th>Attr12</th>\n",
       "      <td>0.087751</td>\n",
       "      <td>0.214666</td>\n",
       "      <td>0.256640</td>\n",
       "      <td>0.014848</td>\n",
       "      <td>0.053302</td>\n",
       "      <td>0.799810</td>\n",
       "      <td>0.347831</td>\n",
       "      <td>1.000000</td>\n",
       "      <td>0.167702</td>\n",
       "      <td>0.040458</td>\n",
       "      <td>0.249859</td>\n",
       "      <td>0.176117</td>\n",
       "      <td>0.280642</td>\n",
       "    </tr>\n",
       "    <tr>\n",
       "      <th>Attr13</th>\n",
       "      <td>0.023920</td>\n",
       "      <td>0.111334</td>\n",
       "      <td>0.184413</td>\n",
       "      <td>0.014147</td>\n",
       "      <td>0.050332</td>\n",
       "      <td>0.392527</td>\n",
       "      <td>0.181464</td>\n",
       "      <td>0.167702</td>\n",
       "      <td>1.000000</td>\n",
       "      <td>-0.016648</td>\n",
       "      <td>0.537156</td>\n",
       "      <td>0.478168</td>\n",
       "      <td>0.104540</td>\n",
       "    </tr>\n",
       "    <tr>\n",
       "      <th>Attr14</th>\n",
       "      <td>0.004372</td>\n",
       "      <td>-0.017165</td>\n",
       "      <td>0.033931</td>\n",
       "      <td>0.118944</td>\n",
       "      <td>0.165888</td>\n",
       "      <td>0.052228</td>\n",
       "      <td>-0.018618</td>\n",
       "      <td>0.040458</td>\n",
       "      <td>-0.016648</td>\n",
       "      <td>1.000000</td>\n",
       "      <td>0.710505</td>\n",
       "      <td>0.741114</td>\n",
       "      <td>-0.018849</td>\n",
       "    </tr>\n",
       "    <tr>\n",
       "      <th>Attr18</th>\n",
       "      <td>0.040735</td>\n",
       "      <td>0.093201</td>\n",
       "      <td>0.176404</td>\n",
       "      <td>0.077697</td>\n",
       "      <td>0.134578</td>\n",
       "      <td>0.369596</td>\n",
       "      <td>0.163097</td>\n",
       "      <td>0.249859</td>\n",
       "      <td>0.537156</td>\n",
       "      <td>0.710505</td>\n",
       "      <td>1.000000</td>\n",
       "      <td>0.990376</td>\n",
       "      <td>0.117155</td>\n",
       "    </tr>\n",
       "    <tr>\n",
       "      <th>Attr19</th>\n",
       "      <td>0.040088</td>\n",
       "      <td>0.082297</td>\n",
       "      <td>0.159997</td>\n",
       "      <td>0.078177</td>\n",
       "      <td>0.131506</td>\n",
       "      <td>0.295191</td>\n",
       "      <td>0.125328</td>\n",
       "      <td>0.176117</td>\n",
       "      <td>0.478168</td>\n",
       "      <td>0.741114</td>\n",
       "      <td>0.990376</td>\n",
       "      <td>1.000000</td>\n",
       "      <td>0.101561</td>\n",
       "    </tr>\n",
       "    <tr>\n",
       "      <th>class</th>\n",
       "      <td>0.403784</td>\n",
       "      <td>0.326226</td>\n",
       "      <td>0.416799</td>\n",
       "      <td>0.016242</td>\n",
       "      <td>0.014965</td>\n",
       "      <td>0.375014</td>\n",
       "      <td>0.332430</td>\n",
       "      <td>0.280642</td>\n",
       "      <td>0.104540</td>\n",
       "      <td>-0.018849</td>\n",
       "      <td>0.117155</td>\n",
       "      <td>0.101561</td>\n",
       "      <td>1.000000</td>\n",
       "    </tr>\n",
       "  </tbody>\n",
       "</table>\n",
       "</div>"
      ],
      "text/plain": [
       "           Attr1     Attr5     Attr6     Attr7     Attr8    Attr10    Attr11  \\\n",
       "Attr1   1.000000  0.144983  0.183870  0.007765 -0.005605  0.128634  0.125377   \n",
       "Attr5   0.144983  1.000000  0.792397  0.046009  0.083910  0.257222  0.201778   \n",
       "Attr6   0.183870  0.792397  1.000000  0.248026  0.345942  0.335563  0.264706   \n",
       "Attr7   0.007765  0.046009  0.248026  1.000000  0.802161  0.038720  0.031053   \n",
       "Attr8  -0.005605  0.083910  0.345942  0.802161  1.000000  0.075084  0.042512   \n",
       "Attr10  0.128634  0.257222  0.335563  0.038720  0.075084  1.000000  0.802051   \n",
       "Attr11  0.125377  0.201778  0.264706  0.031053  0.042512  0.802051  1.000000   \n",
       "Attr12  0.087751  0.214666  0.256640  0.014848  0.053302  0.799810  0.347831   \n",
       "Attr13  0.023920  0.111334  0.184413  0.014147  0.050332  0.392527  0.181464   \n",
       "Attr14  0.004372 -0.017165  0.033931  0.118944  0.165888  0.052228 -0.018618   \n",
       "Attr18  0.040735  0.093201  0.176404  0.077697  0.134578  0.369596  0.163097   \n",
       "Attr19  0.040088  0.082297  0.159997  0.078177  0.131506  0.295191  0.125328   \n",
       "class   0.403784  0.326226  0.416799  0.016242  0.014965  0.375014  0.332430   \n",
       "\n",
       "          Attr12    Attr13    Attr14    Attr18    Attr19     class  \n",
       "Attr1   0.087751  0.023920  0.004372  0.040735  0.040088  0.403784  \n",
       "Attr5   0.214666  0.111334 -0.017165  0.093201  0.082297  0.326226  \n",
       "Attr6   0.256640  0.184413  0.033931  0.176404  0.159997  0.416799  \n",
       "Attr7   0.014848  0.014147  0.118944  0.077697  0.078177  0.016242  \n",
       "Attr8   0.053302  0.050332  0.165888  0.134578  0.131506  0.014965  \n",
       "Attr10  0.799810  0.392527  0.052228  0.369596  0.295191  0.375014  \n",
       "Attr11  0.347831  0.181464 -0.018618  0.163097  0.125328  0.332430  \n",
       "Attr12  1.000000  0.167702  0.040458  0.249859  0.176117  0.280642  \n",
       "Attr13  0.167702  1.000000 -0.016648  0.537156  0.478168  0.104540  \n",
       "Attr14  0.040458 -0.016648  1.000000  0.710505  0.741114 -0.018849  \n",
       "Attr18  0.249859  0.537156  0.710505  1.000000  0.990376  0.117155  \n",
       "Attr19  0.176117  0.478168  0.741114  0.990376  1.000000  0.101561  \n",
       "class   0.280642  0.104540 -0.018849  0.117155  0.101561  1.000000  "
      ]
     },
     "execution_count": 18,
     "metadata": {},
     "output_type": "execute_result"
    }
   ],
   "source": [
    "#Checking correlation between the attributes\n",
    "final_train.corr(method = 'pearson')"
   ]
  },
  {
   "cell_type": "code",
   "execution_count": 19,
   "metadata": {
    "collapsed": true
   },
   "outputs": [],
   "source": [
    "#Removing attr18 which is highly correlated to attr19\n",
    "final_train = final_train.drop(['Attr18'],axis=1)\n",
    "df_test = df_test.drop(['Attr18'],axis=1)"
   ]
  },
  {
   "cell_type": "code",
   "execution_count": 20,
   "metadata": {
    "collapsed": false
   },
   "outputs": [
    {
     "name": "stdout",
     "output_type": "stream",
     "text": [
      "(3194, 16)\n",
      "(1384, 15)\n"
     ]
    }
   ],
   "source": [
    "print(final_train.shape)\n",
    "print(df_test.shape)"
   ]
  },
  {
   "cell_type": "code",
   "execution_count": 21,
   "metadata": {
    "collapsed": false
   },
   "outputs": [
    {
     "data": {
      "text/plain": [
       "Attr1     0\n",
       "Attr2     0\n",
       "Attr3     0\n",
       "Attr4     0\n",
       "Attr5     0\n",
       "Attr6     0\n",
       "Attr7     0\n",
       "Attr8     0\n",
       "Attr9     0\n",
       "Attr10    0\n",
       "Attr11    0\n",
       "Attr12    0\n",
       "Attr13    0\n",
       "Attr14    0\n",
       "Attr19    0\n",
       "dtype: int64"
      ]
     },
     "execution_count": 21,
     "metadata": {},
     "output_type": "execute_result"
    }
   ],
   "source": [
    "#Checking for NULL values\n",
    "final_train.apply(lambda x : sum(x.isnull()),axis = 0)\n",
    "df_test.apply(lambda x :sum(x.isnull()),axis=0)"
   ]
  },
  {
   "cell_type": "code",
   "execution_count": 22,
   "metadata": {
    "collapsed": true
   },
   "outputs": [],
   "source": [
    "final_train = final_train.dropna()"
   ]
  },
  {
   "cell_type": "code",
   "execution_count": 30,
   "metadata": {
    "collapsed": true
   },
   "outputs": [],
   "source": [
    "final_train['class'] =final_train['class'].astype(float)"
   ]
  },
  {
   "cell_type": "code",
   "execution_count": 31,
   "metadata": {
    "collapsed": false
   },
   "outputs": [
    {
     "name": "stdout",
     "output_type": "stream",
     "text": [
      "<class 'pandas.core.frame.DataFrame'>\n",
      "Int64Index: 3186 entries, 0 to 1384\n",
      "Data columns (total 16 columns):\n",
      "Attr1     3186 non-null float64\n",
      "Attr2     3186 non-null int64\n",
      "Attr3     3186 non-null int64\n",
      "Attr4     3186 non-null int64\n",
      "Attr5     3186 non-null float64\n",
      "Attr6     3186 non-null float64\n",
      "Attr7     3186 non-null float64\n",
      "Attr8     3186 non-null float64\n",
      "Attr9     3186 non-null int64\n",
      "Attr10    3186 non-null float64\n",
      "Attr11    3186 non-null float64\n",
      "Attr12    3186 non-null float64\n",
      "Attr13    3186 non-null float64\n",
      "Attr14    3186 non-null float64\n",
      "Attr19    3186 non-null float64\n",
      "class     3186 non-null float64\n",
      "dtypes: float64(12), int64(4)\n",
      "memory usage: 423.1 KB\n"
     ]
    }
   ],
   "source": [
    "final_train.info()"
   ]
  },
  {
   "cell_type": "code",
   "execution_count": 25,
   "metadata": {
    "collapsed": true
   },
   "outputs": [],
   "source": [
    "#Label Encoding to convert categorical attributes to numeric type\n",
    "from sklearn.preprocessing import LabelEncoder\n",
    "var_mod = ['Attr2','Attr3','Attr4','Attr9']\n",
    "le = LabelEncoder()\n",
    "for i in var_mod:\n",
    "    final_train[i] = le.fit_transform(final_train[i])"
   ]
  },
  {
   "cell_type": "code",
   "execution_count": 26,
   "metadata": {
    "collapsed": true
   },
   "outputs": [],
   "source": [
    "#Label Encoding to convert categorical attributes to numeric type\n",
    "from sklearn.preprocessing import LabelEncoder\n",
    "var_mod = ['Attr2','Attr3','Attr4','Attr9']\n",
    "le = LabelEncoder()\n",
    "for i in var_mod:\n",
    "    df_test[i] = le.fit_transform(df_test[i])"
   ]
  },
  {
   "cell_type": "code",
   "execution_count": 32,
   "metadata": {
    "collapsed": false
   },
   "outputs": [
    {
     "name": "stdout",
     "output_type": "stream",
     "text": [
      "<class 'pandas.core.frame.DataFrame'>\n",
      "Int64Index: 3186 entries, 0 to 1384\n",
      "Data columns (total 16 columns):\n",
      "Attr1     3186 non-null float64\n",
      "Attr2     3186 non-null int64\n",
      "Attr3     3186 non-null int64\n",
      "Attr4     3186 non-null int64\n",
      "Attr5     3186 non-null float64\n",
      "Attr6     3186 non-null float64\n",
      "Attr7     3186 non-null float64\n",
      "Attr8     3186 non-null float64\n",
      "Attr9     3186 non-null int64\n",
      "Attr10    3186 non-null float64\n",
      "Attr11    3186 non-null float64\n",
      "Attr12    3186 non-null float64\n",
      "Attr13    3186 non-null float64\n",
      "Attr14    3186 non-null float64\n",
      "Attr19    3186 non-null float64\n",
      "class     3186 non-null float64\n",
      "dtypes: float64(12), int64(4)\n",
      "memory usage: 423.1 KB\n"
     ]
    }
   ],
   "source": [
    "final_train.info()"
   ]
  },
  {
   "cell_type": "code",
   "execution_count": 33,
   "metadata": {
    "collapsed": true
   },
   "outputs": [],
   "source": [
    "X_train,Y_train = final_train[final_train.columns[0:15]],final_train[final_train.columns[15]]\n",
    "X_Test = df_test"
   ]
  },
  {
   "cell_type": "code",
   "execution_count": 34,
   "metadata": {
    "collapsed": false
   },
   "outputs": [
    {
     "data": {
      "text/plain": [
       "DecisionTreeClassifier(class_weight=None, criterion='gini', max_depth=None,\n",
       "            max_features=None, max_leaf_nodes=None, min_samples_leaf=1,\n",
       "            min_samples_split=2, min_weight_fraction_leaf=0.0,\n",
       "            presort=False, random_state=None, splitter='best')"
      ]
     },
     "execution_count": 34,
     "metadata": {},
     "output_type": "execute_result"
    }
   ],
   "source": [
    "from sklearn import tree\n",
    "model = tree.DecisionTreeClassifier()\n",
    "model.fit(X_train,Y_train)"
   ]
  },
  {
   "cell_type": "code",
   "execution_count": 35,
   "metadata": {
    "collapsed": true
   },
   "outputs": [],
   "source": [
    "Y_test= model.predict(X_Test)"
   ]
  },
  {
   "cell_type": "code",
   "execution_count": 53,
   "metadata": {
    "collapsed": false
   },
   "outputs": [],
   "source": [
    "#Saving your results in a CSV file\n",
    "np.savetxt('output_v02.csv',Y_test,delimiter=',')"
   ]
  },
  {
   "cell_type": "code",
   "execution_count": 54,
   "metadata": {
    "collapsed": false
   },
   "outputs": [
    {
     "data": {
      "text/plain": [
       "LogisticRegression(C=1.0, class_weight=None, dual=False, fit_intercept=True,\n",
       "          intercept_scaling=1, max_iter=100, multi_class='ovr', n_jobs=1,\n",
       "          penalty='l2', random_state=None, solver='liblinear', tol=0.0001,\n",
       "          verbose=0, warm_start=False)"
      ]
     },
     "execution_count": 54,
     "metadata": {},
     "output_type": "execute_result"
    }
   ],
   "source": [
    "#Building logistic regression model\n",
    "from sklearn.linear_model import LogisticRegression\n",
    "logistic = LogisticRegression()\n",
    "logistic.fit(X_train,Y_train)"
   ]
  },
  {
   "cell_type": "code",
   "execution_count": 55,
   "metadata": {
    "collapsed": true
   },
   "outputs": [],
   "source": [
    "#Prediciting the class of the target variable on test\n",
    "Y_Test = logistic.predict(X_Test)"
   ]
  },
  {
   "cell_type": "code",
   "execution_count": 56,
   "metadata": {
    "collapsed": true
   },
   "outputs": [],
   "source": [
    "##Saving your results in a CSV file\n",
    "np.savetxt('output_v03.csv',Y_Test,delimiter=',')"
   ]
  },
  {
   "cell_type": "code",
   "execution_count": 58,
   "metadata": {
    "collapsed": true
   },
   "outputs": [],
   "source": [
    "#Dropping attribute7 as it is collinear with attr8\n",
    "final_train = final_train.drop(['Attr7'],axis=1)\n",
    "df_test = df_test.drop(['Attr7'],axis=1)"
   ]
  },
  {
   "cell_type": "code",
   "execution_count": 61,
   "metadata": {
    "collapsed": false
   },
   "outputs": [
    {
     "name": "stdout",
     "output_type": "stream",
     "text": [
      "<class 'pandas.core.frame.DataFrame'>\n",
      "Int64Index: 3186 entries, 0 to 1384\n",
      "Data columns (total 15 columns):\n",
      "Attr1     3186 non-null float64\n",
      "Attr2     3186 non-null int64\n",
      "Attr3     3186 non-null int64\n",
      "Attr4     3186 non-null int64\n",
      "Attr5     3186 non-null float64\n",
      "Attr6     3186 non-null float64\n",
      "Attr8     3186 non-null float64\n",
      "Attr9     3186 non-null int64\n",
      "Attr10    3186 non-null float64\n",
      "Attr11    3186 non-null float64\n",
      "Attr12    3186 non-null float64\n",
      "Attr13    3186 non-null float64\n",
      "Attr14    3186 non-null float64\n",
      "Attr19    3186 non-null float64\n",
      "class     3186 non-null float64\n",
      "dtypes: float64(11), int64(4)\n",
      "memory usage: 398.2 KB\n",
      "<class 'pandas.core.frame.DataFrame'>\n",
      "RangeIndex: 1384 entries, 0 to 1383\n",
      "Data columns (total 14 columns):\n",
      "Attr1     1384 non-null float64\n",
      "Attr2     1384 non-null int64\n",
      "Attr3     1384 non-null int64\n",
      "Attr4     1384 non-null int64\n",
      "Attr5     1384 non-null float64\n",
      "Attr6     1384 non-null float64\n",
      "Attr8     1384 non-null float64\n",
      "Attr9     1384 non-null int64\n",
      "Attr10    1384 non-null float64\n",
      "Attr11    1384 non-null float64\n",
      "Attr12    1384 non-null float64\n",
      "Attr13    1384 non-null float64\n",
      "Attr14    1384 non-null float64\n",
      "Attr19    1384 non-null float64\n",
      "dtypes: float64(10), int64(4)\n",
      "memory usage: 151.4 KB\n"
     ]
    }
   ],
   "source": [
    "final_train.info()\n",
    "df_test.info()"
   ]
  },
  {
   "cell_type": "code",
   "execution_count": 62,
   "metadata": {
    "collapsed": true
   },
   "outputs": [],
   "source": [
    "X_train,Y_train = final_train[final_train.columns[0:14]],final_train[final_train.columns[14]]\n",
    "X_Test = df_test"
   ]
  },
  {
   "cell_type": "code",
   "execution_count": 63,
   "metadata": {
    "collapsed": false
   },
   "outputs": [
    {
     "data": {
      "text/plain": [
       "LogisticRegression(C=1.0, class_weight=None, dual=False, fit_intercept=True,\n",
       "          intercept_scaling=1, max_iter=100, multi_class='ovr', n_jobs=1,\n",
       "          penalty='l2', random_state=None, solver='liblinear', tol=0.0001,\n",
       "          verbose=0, warm_start=False)"
      ]
     },
     "execution_count": 63,
     "metadata": {},
     "output_type": "execute_result"
    }
   ],
   "source": [
    "#Building logistic regression model\n",
    "from sklearn.linear_model import LogisticRegression\n",
    "logistic1 = LogisticRegression()\n",
    "logistic1.fit(X_train,Y_train)"
   ]
  },
  {
   "cell_type": "code",
   "execution_count": 64,
   "metadata": {
    "collapsed": true
   },
   "outputs": [],
   "source": [
    "#Predicting the class of the target variable on test\n",
    "Y_Test = logistic1.predict(X_Test)"
   ]
  },
  {
   "cell_type": "code",
   "execution_count": 65,
   "metadata": {
    "collapsed": true
   },
   "outputs": [],
   "source": [
    "##Saving your results in a CSV file\n",
    "np.savetxt('output_v04.csv',Y_Test,delimiter=',')"
   ]
  },
  {
   "cell_type": "code",
   "execution_count": 67,
   "metadata": {
    "collapsed": false
   },
   "outputs": [
    {
     "data": {
      "text/plain": [
       "RandomForestClassifier(bootstrap=True, class_weight='balanced',\n",
       "            criterion='gini', max_depth=None, max_features='auto',\n",
       "            max_leaf_nodes=None, min_samples_leaf=1, min_samples_split=2,\n",
       "            min_weight_fraction_leaf=0.0, n_estimators=50, n_jobs=1,\n",
       "            oob_score=False, random_state=None, verbose=0,\n",
       "            warm_start=False)"
      ]
     },
     "execution_count": 67,
     "metadata": {},
     "output_type": "execute_result"
    }
   ],
   "source": [
    "#Random Forest\n",
    "from sklearn.ensemble import RandomForestClassifier\n",
    "rf =RandomForestClassifier(n_estimators=50,class_weight=\"balanced\")\n",
    "rf.fit(X_train,Y_train)"
   ]
  },
  {
   "cell_type": "code",
   "execution_count": 68,
   "metadata": {
    "collapsed": true
   },
   "outputs": [],
   "source": [
    "Y_Test = rf.predict(X_Test)"
   ]
  },
  {
   "cell_type": "code",
   "execution_count": 69,
   "metadata": {
    "collapsed": true
   },
   "outputs": [],
   "source": [
    "#Saving your results in a CSV file\n",
    "np.savetxt('output_v05.csv',Y_Test,delimiter=',')"
   ]
  },
  {
   "cell_type": "code",
   "execution_count": 73,
   "metadata": {
    "collapsed": false
   },
   "outputs": [
    {
     "name": "stdout",
     "output_type": "stream",
     "text": [
      "[ 0.29721124  0.01024569  0.01249112  0.01342542  0.21424349  0.12471616\n",
      "  0.07348063  0.00490488  0.05829276  0.05224282  0.01685681  0.00601549\n",
      "  0.00031909  0.1155544 ]\n"
     ]
    }
   ],
   "source": [
    "#Gives feature importance\n",
    "print(rf.feature_importances_)"
   ]
  },
  {
   "cell_type": "code",
   "execution_count": 75,
   "metadata": {
    "collapsed": false
   },
   "outputs": [
    {
     "data": {
      "text/plain": [
       "GradientBoostingClassifier(init=None, learning_rate=0.1, loss='deviance',\n",
       "              max_depth=3, max_features=None, max_leaf_nodes=None,\n",
       "              min_samples_leaf=1, min_samples_split=2,\n",
       "              min_weight_fraction_leaf=0.0, n_estimators=100,\n",
       "              presort='auto', random_state=None, subsample=1.0, verbose=0,\n",
       "              warm_start=False)"
      ]
     },
     "execution_count": 75,
     "metadata": {},
     "output_type": "execute_result"
    }
   ],
   "source": [
    "#Gradient boosting\n",
    "from sklearn.ensemble import GradientBoostingClassifier\n",
    "gbm = GradientBoostingClassifier()\n",
    "gbm.fit(X_train,Y_train)"
   ]
  },
  {
   "cell_type": "code",
   "execution_count": 76,
   "metadata": {
    "collapsed": true
   },
   "outputs": [],
   "source": [
    "Y_Test = gbm.predict(X_Test)"
   ]
  },
  {
   "cell_type": "code",
   "execution_count": 77,
   "metadata": {
    "collapsed": true
   },
   "outputs": [],
   "source": [
    "##Saving your results in a CSV file\n",
    "np.savetxt('output_v06.csv',Y_Test,delimiter=',')"
   ]
  }
 ],
 "metadata": {
  "anaconda-cloud": {},
  "kernelspec": {
   "display_name": "Python [conda root]",
   "language": "python",
   "name": "conda-root-py"
  },
  "language_info": {
   "codemirror_mode": {
    "name": "ipython",
    "version": 2
   },
   "file_extension": ".py",
   "mimetype": "text/x-python",
   "name": "python",
   "nbconvert_exporter": "python",
   "pygments_lexer": "ipython2",
   "version": "2.7.12"
  }
 },
 "nbformat": 4,
 "nbformat_minor": 1
}
